{
  "nbformat": 4,
  "nbformat_minor": 0,
  "metadata": {
    "colab": {
      "provenance": []
    },
    "kernelspec": {
      "name": "python3",
      "display_name": "Python 3"
    },
    "language_info": {
      "name": "python"
    }
  },
  "cells": [
    {
      "cell_type": "code",
      "execution_count": 1,
      "metadata": {
        "id": "RHk26C6BjUA6",
        "colab": {
          "base_uri": "https://localhost:8080/"
        },
        "outputId": "75e30ac3-a038-4876-a9b2-204d7ccb861b"
      },
      "outputs": [
        {
          "output_type": "execute_result",
          "data": {
            "text/plain": [
              "array([[9, 5, 5, 6, 4],\n",
              "       [0, 8, 9, 5, 2],\n",
              "       [9, 4, 3, 6, 7],\n",
              "       [9, 9, 7, 3, 6],\n",
              "       [0, 6, 2, 0, 3]])"
            ]
          },
          "metadata": {},
          "execution_count": 1
        }
      ],
      "source": [
        "import numpy as np\n",
        "import sympy as sp\n",
        "np.random.seed(53)\n",
        "A=np.random.randint(0,10,(5,5))\n",
        "A"
      ]
    },
    {
      "cell_type": "code",
      "source": [
        "B=sp.Matrix(A)\n",
        "B"
      ],
      "metadata": {
        "colab": {
          "base_uri": "https://localhost:8080/",
          "height": 119
        },
        "id": "D5dqc63Qmj8R",
        "outputId": "8ead58ad-bfea-4003-b621-daa4ca49d035"
      },
      "execution_count": 2,
      "outputs": [
        {
          "output_type": "execute_result",
          "data": {
            "text/plain": [
              "Matrix([\n",
              "[9, 5, 5, 6, 4],\n",
              "[0, 8, 9, 5, 2],\n",
              "[9, 4, 3, 6, 7],\n",
              "[9, 9, 7, 3, 6],\n",
              "[0, 6, 2, 0, 3]])"
            ],
            "text/latex": "$\\displaystyle \\left[\\begin{matrix}9 & 5 & 5 & 6 & 4\\\\0 & 8 & 9 & 5 & 2\\\\9 & 4 & 3 & 6 & 7\\\\9 & 9 & 7 & 3 & 6\\\\0 & 6 & 2 & 0 & 3\\end{matrix}\\right]$"
          },
          "metadata": {},
          "execution_count": 2
        }
      ]
    },
    {
      "cell_type": "markdown",
      "source": [],
      "metadata": {
        "id": "-_OZeEqGDSDV"
      }
    },
    {
      "cell_type": "code",
      "source": [
        "U,s,Vt=np.linalg.svd(A)\n",
        "sp.Matrix(np.round(U))\n",
        "s"
      ],
      "metadata": {
        "colab": {
          "base_uri": "https://localhost:8080/"
        },
        "id": "wAZxAG5FmwWE",
        "outputId": "998fe7e0-4691-4ad0-c37d-a057599181bf"
      },
      "execution_count": 3,
      "outputs": [
        {
          "output_type": "execute_result",
          "data": {
            "text/plain": [
              "array([26.90109626,  9.79204197,  4.91079107,  2.89185222,  0.98399982])"
            ]
          },
          "metadata": {},
          "execution_count": 3
        }
      ]
    },
    {
      "cell_type": "code",
      "source": [
        "Sigma=np.zeros((A.shape[0],A.shape[1]))\n",
        "sp.Matrix(Sigma)"
      ],
      "metadata": {
        "colab": {
          "base_uri": "https://localhost:8080/",
          "height": 119
        },
        "id": "DeNKH_nFnEfU",
        "outputId": "406cd0d8-1475-4e3d-ea65-69e7309a730c"
      },
      "execution_count": 4,
      "outputs": [
        {
          "output_type": "execute_result",
          "data": {
            "text/plain": [
              "Matrix([\n",
              "[0, 0, 0, 0, 0],\n",
              "[0, 0, 0, 0, 0],\n",
              "[0, 0, 0, 0, 0],\n",
              "[0, 0, 0, 0, 0],\n",
              "[0, 0, 0, 0, 0]])"
            ],
            "text/latex": "$\\displaystyle \\left[\\begin{matrix}0 & 0 & 0 & 0 & 0\\\\0 & 0 & 0 & 0 & 0\\\\0 & 0 & 0 & 0 & 0\\\\0 & 0 & 0 & 0 & 0\\\\0 & 0 & 0 & 0 & 0\\end{matrix}\\right]$"
          },
          "metadata": {},
          "execution_count": 4
        }
      ]
    },
    {
      "cell_type": "code",
      "source": [
        "Sigma[:A.shape[1],:A.shape[0]]=np.diag(s)\n",
        "sp.Matrix(Sigma)\n",
        "sp.Matrix(Vt)\n"
      ],
      "metadata": {
        "colab": {
          "base_uri": "https://localhost:8080/",
          "height": 119
        },
        "id": "osmbzOgCoPft",
        "outputId": "066a58dc-8040-4d35-ab25-8f54161337bc"
      },
      "execution_count": 5,
      "outputs": [
        {
          "output_type": "execute_result",
          "data": {
            "text/plain": [
              "Matrix([\n",
              "[ -0.51826922010005,  -0.517406808150047, -0.442558260548704, -0.353794947915236, -0.377701643134666],\n",
              "[ 0.697053862926292,  -0.489221755339434, -0.478084252737306, 0.0789078678751705,  0.199967452236965],\n",
              "[0.0621153136952316,   0.457094825615533, -0.341847108575764, -0.729239846444097,  0.372230854331863],\n",
              "[ 0.480150046615291, -0.0242653054975431,   0.38318516042738, -0.475227384421329, -0.629440381298143],\n",
              "[ 0.105406585260586,   0.532379361289672, -0.558468728302086,  0.333122894246707, -0.531604631557938]])"
            ],
            "text/latex": "$\\displaystyle \\left[\\begin{matrix}-0.51826922010005 & -0.517406808150047 & -0.442558260548704 & -0.353794947915236 & -0.377701643134666\\\\0.697053862926292 & -0.489221755339434 & -0.478084252737306 & 0.0789078678751705 & 0.199967452236965\\\\0.0621153136952316 & 0.457094825615533 & -0.341847108575764 & -0.729239846444097 & 0.372230854331863\\\\0.480150046615291 & -0.0242653054975431 & 0.38318516042738 & -0.475227384421329 & -0.629440381298143\\\\0.105406585260586 & 0.532379361289672 & -0.558468728302086 & 0.333122894246707 & -0.531604631557938\\end{matrix}\\right]$"
          },
          "metadata": {},
          "execution_count": 5
        }
      ]
    },
    {
      "cell_type": "code",
      "source": [
        "U@Sigma@Vt"
      ],
      "metadata": {
        "colab": {
          "base_uri": "https://localhost:8080/"
        },
        "id": "ub0yzJWnowZb",
        "outputId": "805bfa4b-9cab-4689-c954-4f74ffe17d0e"
      },
      "execution_count": 6,
      "outputs": [
        {
          "output_type": "execute_result",
          "data": {
            "text/plain": [
              "array([[ 9.00000000e+00,  5.00000000e+00,  5.00000000e+00,\n",
              "         6.00000000e+00,  4.00000000e+00],\n",
              "       [-2.09335835e-15,  8.00000000e+00,  9.00000000e+00,\n",
              "         5.00000000e+00,  2.00000000e+00],\n",
              "       [ 9.00000000e+00,  4.00000000e+00,  3.00000000e+00,\n",
              "         6.00000000e+00,  7.00000000e+00],\n",
              "       [ 9.00000000e+00,  9.00000000e+00,  7.00000000e+00,\n",
              "         3.00000000e+00,  6.00000000e+00],\n",
              "       [-6.56399752e-16,  6.00000000e+00,  2.00000000e+00,\n",
              "        -9.52687779e-16,  3.00000000e+00]])"
            ]
          },
          "metadata": {},
          "execution_count": 6
        }
      ]
    },
    {
      "cell_type": "markdown",
      "source": [
        "as it is almost equal to our original matrix A singular value decomposition is verified"
      ],
      "metadata": {
        "id": "Io3sESN9o23e"
      }
    },
    {
      "cell_type": "code",
      "source": [
        "U1=U[:,:2]\n",
        "U1=sp.Matrix(U1)\n",
        "U1"
      ],
      "metadata": {
        "colab": {
          "base_uri": "https://localhost:8080/",
          "height": 119
        },
        "id": "cP2a54u8Eq2b",
        "outputId": "69fc0c7b-d356-42e8-f4c4-db9429ae68bb"
      },
      "execution_count": 7,
      "outputs": [
        {
          "output_type": "execute_result",
          "data": {
            "text/plain": [
              "Matrix([\n",
              "[-0.486888134836206,    0.276783100928548],\n",
              "[ -0.39577037054519,   -0.757968367859855],\n",
              "[-0.476872989088543,    0.485656043143325],\n",
              "[-0.585351118290454, -0.00404129025741262],\n",
              "[-0.190425782256808,   -0.336150180865147]])"
            ],
            "text/latex": "$\\displaystyle \\left[\\begin{matrix}-0.486888134836206 & 0.276783100928548\\\\-0.39577037054519 & -0.757968367859855\\\\-0.476872989088543 & 0.485656043143325\\\\-0.585351118290454 & -0.00404129025741262\\\\-0.190425782256808 & -0.336150180865147\\end{matrix}\\right]$"
          },
          "metadata": {},
          "execution_count": 7
        }
      ]
    },
    {
      "cell_type": "code",
      "source": [
        "Vt1=Vt[:2,:]\n",
        "Vt1=sp.Matrix(Vt1)\n",
        "Vt1"
      ],
      "metadata": {
        "colab": {
          "base_uri": "https://localhost:8080/",
          "height": 58
        },
        "id": "PbY-Jb1MFP2q",
        "outputId": "07006d0c-b122-43aa-f419-de159ed9ecbb"
      },
      "execution_count": 8,
      "outputs": [
        {
          "output_type": "execute_result",
          "data": {
            "text/plain": [
              "Matrix([\n",
              "[-0.51826922010005, -0.517406808150047, -0.442558260548704, -0.353794947915236, -0.377701643134666],\n",
              "[0.697053862926292, -0.489221755339434, -0.478084252737306, 0.0789078678751705,  0.199967452236965]])"
            ],
            "text/latex": "$\\displaystyle \\left[\\begin{matrix}-0.51826922010005 & -0.517406808150047 & -0.442558260548704 & -0.353794947915236 & -0.377701643134666\\\\0.697053862926292 & -0.489221755339434 & -0.478084252737306 & 0.0789078678751705 & 0.199967452236965\\end{matrix}\\right]$"
          },
          "metadata": {},
          "execution_count": 8
        }
      ]
    },
    {
      "cell_type": "code",
      "source": [
        "Sig1=Sigma[:2,:2]\n",
        "Sig1=sp.Matrix(Sig1)\n",
        "Sig1"
      ],
      "metadata": {
        "colab": {
          "base_uri": "https://localhost:8080/",
          "height": 58
        },
        "id": "QgJKoxcCFWG6",
        "outputId": "12a4c4e0-f010-4dba-df3c-49c62b61a5ce"
      },
      "execution_count": 9,
      "outputs": [
        {
          "output_type": "execute_result",
          "data": {
            "text/plain": [
              "Matrix([\n",
              "[26.9010962627597,                0],\n",
              "[               0, 9.79204197459828]])"
            ],
            "text/latex": "$\\displaystyle \\left[\\begin{matrix}26.9010962627597 & 0\\\\0 & 9.79204197459828\\end{matrix}\\right]$"
          },
          "metadata": {},
          "execution_count": 9
        }
      ]
    },
    {
      "cell_type": "code",
      "source": [
        "A2=U1@Sig1@Vt1\n",
        "A2"
      ],
      "metadata": {
        "colab": {
          "base_uri": "https://localhost:8080/",
          "height": 119
        },
        "id": "RGVf-evVFgxO",
        "outputId": "c554ca3f-2fec-44a0-e68b-a64a5c820039"
      },
      "execution_count": 10,
      "outputs": [
        {
          "output_type": "execute_result",
          "data": {
            "text/plain": [
              "Matrix([\n",
              "[ 8.67740471982373, 5.45097971279382, 4.50081222449318, 4.84780593118482, 5.48903600217462],\n",
              "[0.344260284060953, 9.13968500992508, 8.26013501783498, 3.18107462293274, 2.53708973752929],\n",
              "[ 9.96345257571665, 4.31097915394559,  3.4037566934201, 4.91387674207451, 5.79626818366857],\n",
              "[ 8.13338709732214, 8.16675092543502, 6.98770103658354, 5.56794026957551, 5.93959849204183],\n",
              "[0.360498013199617,  4.2608210556146, 3.84073705605466, 1.55263916541722, 1.27662576565674]])"
            ],
            "text/latex": "$\\displaystyle \\left[\\begin{matrix}8.67740471982373 & 5.45097971279382 & 4.50081222449318 & 4.84780593118482 & 5.48903600217462\\\\0.344260284060953 & 9.13968500992508 & 8.26013501783498 & 3.18107462293274 & 2.53708973752929\\\\9.96345257571665 & 4.31097915394559 & 3.4037566934201 & 4.91387674207451 & 5.79626818366857\\\\8.13338709732214 & 8.16675092543502 & 6.98770103658354 & 5.56794026957551 & 5.93959849204183\\\\0.360498013199617 & 4.2608210556146 & 3.84073705605466 & 1.55263916541722 & 1.27662576565674\\end{matrix}\\right]$"
          },
          "metadata": {},
          "execution_count": 10
        }
      ]
    },
    {
      "cell_type": "code",
      "source": [
        "U2=U[:,:3]\n",
        "U2=sp.Matrix(U1)\n",
        "U2"
      ],
      "metadata": {
        "colab": {
          "base_uri": "https://localhost:8080/",
          "height": 119
        },
        "id": "zh8b_ZCrFqY1",
        "outputId": "c43887a2-30dc-4ce9-e234-66d9884f147c"
      },
      "execution_count": 11,
      "outputs": [
        {
          "output_type": "execute_result",
          "data": {
            "text/plain": [
              "Matrix([\n",
              "[-0.486888134836206,    0.276783100928548],\n",
              "[ -0.39577037054519,   -0.757968367859855],\n",
              "[-0.476872989088543,    0.485656043143325],\n",
              "[-0.585351118290454, -0.00404129025741262],\n",
              "[-0.190425782256808,   -0.336150180865147]])"
            ],
            "text/latex": "$\\displaystyle \\left[\\begin{matrix}-0.486888134836206 & 0.276783100928548\\\\-0.39577037054519 & -0.757968367859855\\\\-0.476872989088543 & 0.485656043143325\\\\-0.585351118290454 & -0.00404129025741262\\\\-0.190425782256808 & -0.336150180865147\\end{matrix}\\right]$"
          },
          "metadata": {},
          "execution_count": 11
        }
      ]
    },
    {
      "cell_type": "code",
      "source": [
        "Vt2=Vt[:3,:]\n",
        "Vt2=sp.Matrix(Vt2)\n",
        "Vt2"
      ],
      "metadata": {
        "colab": {
          "base_uri": "https://localhost:8080/",
          "height": 78
        },
        "id": "eTSXFTm1FtGB",
        "outputId": "76f81f5f-08fc-495c-e026-be09da0ce6a1"
      },
      "execution_count": 12,
      "outputs": [
        {
          "output_type": "execute_result",
          "data": {
            "text/plain": [
              "Matrix([\n",
              "[ -0.51826922010005, -0.517406808150047, -0.442558260548704, -0.353794947915236, -0.377701643134666],\n",
              "[ 0.697053862926292, -0.489221755339434, -0.478084252737306, 0.0789078678751705,  0.199967452236965],\n",
              "[0.0621153136952316,  0.457094825615533, -0.341847108575764, -0.729239846444097,  0.372230854331863]])"
            ],
            "text/latex": "$\\displaystyle \\left[\\begin{matrix}-0.51826922010005 & -0.517406808150047 & -0.442558260548704 & -0.353794947915236 & -0.377701643134666\\\\0.697053862926292 & -0.489221755339434 & -0.478084252737306 & 0.0789078678751705 & 0.199967452236965\\\\0.0621153136952316 & 0.457094825615533 & -0.341847108575764 & -0.729239846444097 & 0.372230854331863\\end{matrix}\\right]$"
          },
          "metadata": {},
          "execution_count": 12
        }
      ]
    },
    {
      "cell_type": "code",
      "source": [
        "Sig2=Sigma[:3,:3]\n",
        "Sig2=sp.Matrix(Sig2)\n",
        "Sig2"
      ],
      "metadata": {
        "colab": {
          "base_uri": "https://localhost:8080/",
          "height": 78
        },
        "id": "lc1whMERFy6I",
        "outputId": "cab97d35-d816-4c22-c023-522930d4a835"
      },
      "execution_count": 13,
      "outputs": [
        {
          "output_type": "execute_result",
          "data": {
            "text/plain": [
              "Matrix([\n",
              "[26.9010962627597,                0,               0],\n",
              "[               0, 9.79204197459828,               0],\n",
              "[               0,                0, 4.9107910682511]])"
            ],
            "text/latex": "$\\displaystyle \\left[\\begin{matrix}26.9010962627597 & 0 & 0\\\\0 & 9.79204197459828 & 0\\\\0 & 0 & 4.9107910682511\\end{matrix}\\right]$"
          },
          "metadata": {},
          "execution_count": 13
        }
      ]
    },
    {
      "cell_type": "code",
      "source": [
        "A3=U1@Sig1@Vt1\n",
        "A3"
      ],
      "metadata": {
        "colab": {
          "base_uri": "https://localhost:8080/",
          "height": 119
        },
        "id": "j-f1CEYiF96K",
        "outputId": "a88d3a12-abc0-4a03-b2c5-b25d2c780e51"
      },
      "execution_count": 15,
      "outputs": [
        {
          "output_type": "execute_result",
          "data": {
            "text/plain": [
              "Matrix([\n",
              "[ 8.67740471982373, 5.45097971279382, 4.50081222449318, 4.84780593118482, 5.48903600217462],\n",
              "[0.344260284060953, 9.13968500992508, 8.26013501783498, 3.18107462293274, 2.53708973752929],\n",
              "[ 9.96345257571665, 4.31097915394559,  3.4037566934201, 4.91387674207451, 5.79626818366857],\n",
              "[ 8.13338709732214, 8.16675092543502, 6.98770103658354, 5.56794026957551, 5.93959849204183],\n",
              "[0.360498013199617,  4.2608210556146, 3.84073705605466, 1.55263916541722, 1.27662576565674]])"
            ],
            "text/latex": "$\\displaystyle \\left[\\begin{matrix}8.67740471982373 & 5.45097971279382 & 4.50081222449318 & 4.84780593118482 & 5.48903600217462\\\\0.344260284060953 & 9.13968500992508 & 8.26013501783498 & 3.18107462293274 & 2.53708973752929\\\\9.96345257571665 & 4.31097915394559 & 3.4037566934201 & 4.91387674207451 & 5.79626818366857\\\\8.13338709732214 & 8.16675092543502 & 6.98770103658354 & 5.56794026957551 & 5.93959849204183\\\\0.360498013199617 & 4.2608210556146 & 3.84073705605466 & 1.55263916541722 & 1.27662576565674\\end{matrix}\\right]$"
          },
          "metadata": {},
          "execution_count": 15
        }
      ]
    }
  ]
}