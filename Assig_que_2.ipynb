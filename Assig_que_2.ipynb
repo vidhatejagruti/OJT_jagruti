{
  "nbformat": 4,
  "nbformat_minor": 0,
  "metadata": {
    "colab": {
      "provenance": []
    },
    "kernelspec": {
      "name": "python3",
      "display_name": "Python 3"
    },
    "language_info": {
      "name": "python"
    }
  },
  "cells": [
    {
      "cell_type": "markdown",
      "source": [
        "**Row Echelon Form**"
      ],
      "metadata": {
        "id": "WazjPS8yUhXQ"
      }
    },
    {
      "cell_type": "code",
      "execution_count": 41,
      "metadata": {
        "colab": {
          "base_uri": "https://localhost:8080/"
        },
        "id": "9sUliXeBMlOO",
        "outputId": "83d967b1-daab-443c-a039-12948051e5c4"
      },
      "outputs": [
        {
          "output_type": "stream",
          "name": "stdout",
          "text": [
            "[[9 5 5 6 4]\n",
            " [0 8 9 5 2]\n",
            " [9 4 3 6 7]\n",
            " [9 9 7 3 6]\n",
            " [0 6 2 0 3]]\n"
          ]
        }
      ],
      "source": [
        "\n",
        "import numpy as np\n",
        "import sympy as sp\n",
        "np.random.seed(53)\n",
        "A = np.random.randint(0,10,(5,5))\n",
        "print(A)"
      ]
    },
    {
      "cell_type": "code",
      "source": [
        "A=sp.Matrix(A)\n",
        "A"
      ],
      "metadata": {
        "colab": {
          "base_uri": "https://localhost:8080/",
          "height": 119
        },
        "id": "YFD6XpJ9NO7E",
        "outputId": "50572bd6-ecef-4791-eccf-c7e6eb78e74e"
      },
      "execution_count": 42,
      "outputs": [
        {
          "output_type": "execute_result",
          "data": {
            "text/plain": [
              "Matrix([\n",
              "[9, 5, 5, 6, 4],\n",
              "[0, 8, 9, 5, 2],\n",
              "[9, 4, 3, 6, 7],\n",
              "[9, 9, 7, 3, 6],\n",
              "[0, 6, 2, 0, 3]])"
            ],
            "text/latex": "$\\displaystyle \\left[\\begin{matrix}9 & 5 & 5 & 6 & 4\\\\0 & 8 & 9 & 5 & 2\\\\9 & 4 & 3 & 6 & 7\\\\9 & 9 & 7 & 3 & 6\\\\0 & 6 & 2 & 0 & 3\\end{matrix}\\right]$"
          },
          "metadata": {},
          "execution_count": 42
        }
      ]
    },
    {
      "cell_type": "code",
      "source": [
        "A[2:3,0:5]=A[2:3,0:5]-A[0:1,0:5]\n",
        "A"
      ],
      "metadata": {
        "colab": {
          "base_uri": "https://localhost:8080/",
          "height": 119
        },
        "id": "_p9b9n-UONF2",
        "outputId": "3de73669-9eb5-4dac-bb7d-3346e6b24f95"
      },
      "execution_count": 43,
      "outputs": [
        {
          "output_type": "execute_result",
          "data": {
            "text/plain": [
              "Matrix([\n",
              "[9,  5,  5, 6, 4],\n",
              "[0,  8,  9, 5, 2],\n",
              "[0, -1, -2, 0, 3],\n",
              "[9,  9,  7, 3, 6],\n",
              "[0,  6,  2, 0, 3]])"
            ],
            "text/latex": "$\\displaystyle \\left[\\begin{matrix}9 & 5 & 5 & 6 & 4\\\\0 & 8 & 9 & 5 & 2\\\\0 & -1 & -2 & 0 & 3\\\\9 & 9 & 7 & 3 & 6\\\\0 & 6 & 2 & 0 & 3\\end{matrix}\\right]$"
          },
          "metadata": {},
          "execution_count": 43
        }
      ]
    },
    {
      "cell_type": "code",
      "source": [
        "A[3:4,0:5]=A[3:4,0:5]-A[0:1,0:5]\n",
        "A"
      ],
      "metadata": {
        "colab": {
          "base_uri": "https://localhost:8080/",
          "height": 119
        },
        "id": "NfKvAMNqQbBY",
        "outputId": "0a9ad36b-a8ae-48c0-dc48-d364c8d02338"
      },
      "execution_count": 44,
      "outputs": [
        {
          "output_type": "execute_result",
          "data": {
            "text/plain": [
              "Matrix([\n",
              "[9,  5,  5,  6, 4],\n",
              "[0,  8,  9,  5, 2],\n",
              "[0, -1, -2,  0, 3],\n",
              "[0,  4,  2, -3, 2],\n",
              "[0,  6,  2,  0, 3]])"
            ],
            "text/latex": "$\\displaystyle \\left[\\begin{matrix}9 & 5 & 5 & 6 & 4\\\\0 & 8 & 9 & 5 & 2\\\\0 & -1 & -2 & 0 & 3\\\\0 & 4 & 2 & -3 & 2\\\\0 & 6 & 2 & 0 & 3\\end{matrix}\\right]$"
          },
          "metadata": {},
          "execution_count": 44
        }
      ]
    },
    {
      "cell_type": "code",
      "source": [
        "A[2:3,0:5]=8*A[2:3,0:5]+A[1:2,0:5]\n",
        "A"
      ],
      "metadata": {
        "colab": {
          "base_uri": "https://localhost:8080/",
          "height": 119
        },
        "id": "6fB9RnM1SMUw",
        "outputId": "a3bd66af-987c-43d1-962b-d5cb93ce2839"
      },
      "execution_count": 45,
      "outputs": [
        {
          "output_type": "execute_result",
          "data": {
            "text/plain": [
              "Matrix([\n",
              "[9, 5,  5,  6,  4],\n",
              "[0, 8,  9,  5,  2],\n",
              "[0, 0, -7,  5, 26],\n",
              "[0, 4,  2, -3,  2],\n",
              "[0, 6,  2,  0,  3]])"
            ],
            "text/latex": "$\\displaystyle \\left[\\begin{matrix}9 & 5 & 5 & 6 & 4\\\\0 & 8 & 9 & 5 & 2\\\\0 & 0 & -7 & 5 & 26\\\\0 & 4 & 2 & -3 & 2\\\\0 & 6 & 2 & 0 & 3\\end{matrix}\\right]$"
          },
          "metadata": {},
          "execution_count": 45
        }
      ]
    },
    {
      "cell_type": "code",
      "source": [
        "A[3:4,0:5]=2*A[3:4,0:5]-A[1:2,0:5]\n",
        "A"
      ],
      "metadata": {
        "colab": {
          "base_uri": "https://localhost:8080/",
          "height": 119
        },
        "id": "9d_jo2wJSXer",
        "outputId": "83b2d3a1-f7d4-4fec-ecf9-4dd775b31044"
      },
      "execution_count": 46,
      "outputs": [
        {
          "output_type": "execute_result",
          "data": {
            "text/plain": [
              "Matrix([\n",
              "[9, 5,  5,   6,  4],\n",
              "[0, 8,  9,   5,  2],\n",
              "[0, 0, -7,   5, 26],\n",
              "[0, 0, -5, -11,  2],\n",
              "[0, 6,  2,   0,  3]])"
            ],
            "text/latex": "$\\displaystyle \\left[\\begin{matrix}9 & 5 & 5 & 6 & 4\\\\0 & 8 & 9 & 5 & 2\\\\0 & 0 & -7 & 5 & 26\\\\0 & 0 & -5 & -11 & 2\\\\0 & 6 & 2 & 0 & 3\\end{matrix}\\right]$"
          },
          "metadata": {},
          "execution_count": 46
        }
      ]
    },
    {
      "cell_type": "code",
      "source": [
        "A[4:5,0:5]=8*A[4:5,0:5]-6*A[1:2,0:5]\n",
        "A"
      ],
      "metadata": {
        "colab": {
          "base_uri": "https://localhost:8080/",
          "height": 119
        },
        "id": "B7feq4RgSh1m",
        "outputId": "2cfc4128-eb11-4185-83f4-bd58b8d59136"
      },
      "execution_count": 47,
      "outputs": [
        {
          "output_type": "execute_result",
          "data": {
            "text/plain": [
              "Matrix([\n",
              "[9, 5,   5,   6,  4],\n",
              "[0, 8,   9,   5,  2],\n",
              "[0, 0,  -7,   5, 26],\n",
              "[0, 0,  -5, -11,  2],\n",
              "[0, 0, -38, -30, 12]])"
            ],
            "text/latex": "$\\displaystyle \\left[\\begin{matrix}9 & 5 & 5 & 6 & 4\\\\0 & 8 & 9 & 5 & 2\\\\0 & 0 & -7 & 5 & 26\\\\0 & 0 & -5 & -11 & 2\\\\0 & 0 & -38 & -30 & 12\\end{matrix}\\right]$"
          },
          "metadata": {},
          "execution_count": 47
        }
      ]
    },
    {
      "cell_type": "code",
      "source": [
        "A[3:4,0:5]=7*A[3:4,0:5]-5*A[2:3,0:5]\n",
        "A"
      ],
      "metadata": {
        "colab": {
          "base_uri": "https://localhost:8080/",
          "height": 119
        },
        "id": "krA5AwWvTht4",
        "outputId": "06674ebb-53ce-412f-9c70-504f0b237ca0"
      },
      "execution_count": 48,
      "outputs": [
        {
          "output_type": "execute_result",
          "data": {
            "text/plain": [
              "Matrix([\n",
              "[9, 5,   5,    6,    4],\n",
              "[0, 8,   9,    5,    2],\n",
              "[0, 0,  -7,    5,   26],\n",
              "[0, 0,   0, -102, -116],\n",
              "[0, 0, -38,  -30,   12]])"
            ],
            "text/latex": "$\\displaystyle \\left[\\begin{matrix}9 & 5 & 5 & 6 & 4\\\\0 & 8 & 9 & 5 & 2\\\\0 & 0 & -7 & 5 & 26\\\\0 & 0 & 0 & -102 & -116\\\\0 & 0 & -38 & -30 & 12\\end{matrix}\\right]$"
          },
          "metadata": {},
          "execution_count": 48
        }
      ]
    },
    {
      "cell_type": "code",
      "source": [
        "A[4:5,0:5]=7*A[4:5,0:5]-38*A[2:3,0:5]\n",
        "A"
      ],
      "metadata": {
        "colab": {
          "base_uri": "https://localhost:8080/",
          "height": 119
        },
        "id": "g756pL4vTy_2",
        "outputId": "7a7d8284-4fd0-475b-a493-00f0b5021005"
      },
      "execution_count": 49,
      "outputs": [
        {
          "output_type": "execute_result",
          "data": {
            "text/plain": [
              "Matrix([\n",
              "[9, 5,  5,    6,    4],\n",
              "[0, 8,  9,    5,    2],\n",
              "[0, 0, -7,    5,   26],\n",
              "[0, 0,  0, -102, -116],\n",
              "[0, 0,  0, -400, -904]])"
            ],
            "text/latex": "$\\displaystyle \\left[\\begin{matrix}9 & 5 & 5 & 6 & 4\\\\0 & 8 & 9 & 5 & 2\\\\0 & 0 & -7 & 5 & 26\\\\0 & 0 & 0 & -102 & -116\\\\0 & 0 & 0 & -400 & -904\\end{matrix}\\right]$"
          },
          "metadata": {},
          "execution_count": 49
        }
      ]
    },
    {
      "cell_type": "code",
      "source": [
        "A[4:5,0:5]=102*A[4:5,0:5]-400*A[3:4,0:5]\n",
        "A"
      ],
      "metadata": {
        "id": "J0o5IttsUOj6",
        "colab": {
          "base_uri": "https://localhost:8080/",
          "height": 119
        },
        "outputId": "3fd92c77-a28d-4852-9f0c-c69e4a817cd5"
      },
      "execution_count": 50,
      "outputs": [
        {
          "output_type": "execute_result",
          "data": {
            "text/plain": [
              "Matrix([\n",
              "[9, 5,  5,    6,      4],\n",
              "[0, 8,  9,    5,      2],\n",
              "[0, 0, -7,    5,     26],\n",
              "[0, 0,  0, -102,   -116],\n",
              "[0, 0,  0,    0, -45808]])"
            ],
            "text/latex": "$\\displaystyle \\left[\\begin{matrix}9 & 5 & 5 & 6 & 4\\\\0 & 8 & 9 & 5 & 2\\\\0 & 0 & -7 & 5 & 26\\\\0 & 0 & 0 & -102 & -116\\\\0 & 0 & 0 & 0 & -45808\\end{matrix}\\right]$"
          },
          "metadata": {},
          "execution_count": 50
        }
      ]
    }
  ]
}